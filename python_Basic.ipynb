{
  "nbformat": 4,
  "nbformat_minor": 0,
  "metadata": {
    "colab": {
      "provenance": []
    },
    "kernelspec": {
      "name": "python3",
      "display_name": "Python 3"
    },
    "language_info": {
      "name": "python"
    }
  },
  "cells": [
    {
      "cell_type": "markdown",
      "source": [],
      "metadata": {
        "id": "NQ4Q8RPji_4M"
      }
    },
    {
      "cell_type": "markdown",
      "source": [],
      "metadata": {
        "id": "1oWq0IGhVy_e"
      }
    },
    {
      "cell_type": "markdown",
      "source": [
        "# What is Python, and why is it popular\n",
        "- Python is the Programming Language.It is first introduction in 1991 by Guido Van Rossum.\n",
        "- It is popular because it easy,intrepretable,Community Support,Multiple Paridgm,Versatile,etc.\n",
        "\n",
        "# What is an interpreter in Python\n",
        "- The interpreter execute the Pyhton Code.It converts code into the bytecode and then execute it.\n",
        "# What are pre-defined keywords in Python\n",
        "- It is the reserved words that hold special meaning.\n",
        "for example: if-else,return,def,import,etc.\n",
        "# Can keywords be used as variable names\n",
        "- No,As the keywords holds the special meaning.\n",
        "# What is mutability in Python\n",
        "- It refer to the object state or value change after it has been created.\n",
        "# Why are lists mutable, but tuples are immutable\n",
        "- In list we can added,remove or change the value but in tuple we cann't change added,remove or change the value.\n",
        "# What is the difference between “==” and “is” operators in Python\n",
        "- The \"==\" is referred to comparing the value of two objects and \"is\"operator refers to check whether the two variables refer to the exact same object in the memory and it is called as the identity operator.\n",
        "# What are logical operators in Python\n",
        "- Logical Operator are used to combine conditional statements and evaluate the truthfullness of expreesion resulting in the Boolean value.\n",
        "# What is type casting in Python\n",
        "- Converting one datatype to another datatype.\n",
        "# What is the difference between implicit and explicit type casting\n",
        "- Implicity- The Compiler automatically convert one datatype to another datatype\n",
        "- Explicit- A programmer manually use casting operator to convert one datatype to another.\n",
        "# What is the purpose of conditional statements in Python\n",
        "- Conditional statements is use to define condition and check whether is it True or False. we use if,if-else,if-elif-else.\n",
        "# How does the elif statement work\n",
        "-The Elif statement works as when we have multiple conditions It is use to execute the multiple conditon and works whether it is True or False.\n",
        "# What is the difference between for and while loops.\n",
        "- In for loop execute N number of steps perform in single line.\n",
        "- In while loop execute N number of steps in more than one time.\n",
        "# Describe a scenario where a while loop is more suitable than a for loop.\n",
        "- When a number of iteration is unknown and the loop needs to continue until the condition is met.\n",
        "\n",
        "\n"
      ],
      "metadata": {
        "id": "YkxXUXcNV0_n"
      }
    },
    {
      "cell_type": "code",
      "execution_count": 1,
      "metadata": {
        "colab": {
          "base_uri": "https://localhost:8080/"
        },
        "id": "PQMQMjC6VyKF",
        "outputId": "3a8ddf80-595f-4856-cf1e-6d3c28f244d4"
      },
      "outputs": [
        {
          "output_type": "stream",
          "name": "stdout",
          "text": [
            "Hello, World!\n"
          ]
        }
      ],
      "source": [
        "\n",
        "\n",
        "\n",
        "# 13. Write a Python program to find the sum of all even numbers between 1 and 50.\n",
        "\n",
        "# 14. Write a program to reverse a string using a while loop.\n",
        "# 15. Write a Python program to calculate the factorial of a number provided by the user using a while loop\n",
        "#1.Write a Python program to print \"Hello, World!\"\n",
        "print(\"Hello, World!\")"
      ]
    },
    {
      "cell_type": "code",
      "source": [
        "# 2. Write a Python program that displays your name and age.\n",
        "Name=\"Pragati Arya\"\n",
        "Age=\"21\"\n",
        "print(Name,Age)"
      ],
      "metadata": {
        "colab": {
          "base_uri": "https://localhost:8080/"
        },
        "id": "i8KOa9M1hziV",
        "outputId": "9c3f3259-ee9c-439b-ff38-5df1817ec6fc"
      },
      "execution_count": 3,
      "outputs": [
        {
          "output_type": "stream",
          "name": "stdout",
          "text": [
            "Pragati Arya 21\n"
          ]
        }
      ]
    },
    {
      "cell_type": "code",
      "source": [
        "# 3.Write code to print all the pre-defined keywords in Python using the keyword library.\n",
        "import keyword\n",
        "print(keyword.kwlist)"
      ],
      "metadata": {
        "colab": {
          "base_uri": "https://localhost:8080/"
        },
        "id": "wJVeXHCliN3J",
        "outputId": "4c2a5a7e-5c73-4625-892a-1da638c67cdb"
      },
      "execution_count": 4,
      "outputs": [
        {
          "output_type": "stream",
          "name": "stdout",
          "text": [
            "['False', 'None', 'True', 'and', 'as', 'assert', 'async', 'await', 'break', 'class', 'continue', 'def', 'del', 'elif', 'else', 'except', 'finally', 'for', 'from', 'global', 'if', 'import', 'in', 'is', 'lambda', 'nonlocal', 'not', 'or', 'pass', 'raise', 'return', 'try', 'while', 'with', 'yield']\n"
          ]
        }
      ]
    },
    {
      "cell_type": "code",
      "source": [
        "#4 Write a program that checks if a given word is a Python keyword.\n",
        "import keyword\n",
        "if('the'==keyword):\n",
        "   print(\"Yes it is the keyword\")\n",
        "else:\n",
        "  print(\"No it is not the keyword\")"
      ],
      "metadata": {
        "colab": {
          "base_uri": "https://localhost:8080/"
        },
        "id": "PuO0lPqRjEs9",
        "outputId": "aad5f0de-7277-4047-a716-4cc6e8a0b301"
      },
      "execution_count": 12,
      "outputs": [
        {
          "output_type": "stream",
          "name": "stdout",
          "text": [
            "No it is not the keyword\n"
          ]
        }
      ]
    },
    {
      "cell_type": "code",
      "source": [
        "#5. Create a list and tuple in Python, and demonstrate how attempting to change an element works differently for each.\n",
        "List=[1,2,3]\n",
        "List.append(4)\n",
        "print(List)\n",
        "tuple=(\"apple\",34,200)\n",
        "try:\n",
        "   tuple[1]=200\n",
        "except:\n",
        "    print(\"error\")\n",
        "# i have perform only one attempt to add the value to list and tuple\n"
      ],
      "metadata": {
        "colab": {
          "base_uri": "https://localhost:8080/"
        },
        "collapsed": true,
        "id": "ggKzvRnAlyPS",
        "outputId": "bb30891a-8ff2-423f-b62e-b29f2845fb28"
      },
      "execution_count": 31,
      "outputs": [
        {
          "output_type": "stream",
          "name": "stdout",
          "text": [
            "[1, 2, 3, 4]\n",
            "error\n"
          ]
        }
      ]
    },
    {
      "cell_type": "code",
      "source": [
        "# 6. Write a function to demonstrate the behavior of mutable and immutable arguments.\n",
        "def mutuable(my_list):\n",
        "\n",
        "  print(f\"{my_list}Before\")\n",
        "  my_list.append(4)\n",
        "  my_list.remove(my_list[0])\n",
        "  my_list[1]=\"apple\"\n",
        "  print(f\"{my_list}After\")\n",
        "\n",
        "my_list=[1,2,3]\n",
        "mutuable(my_list)\n",
        "\n",
        "def immutuable(my_list):\n",
        "  try:\n",
        "    print(f\"{my_list}Before\")\n",
        "\n",
        "    my_list.add(4)\n",
        "    my_list.remove(my_list[0])\n",
        "    my_list[1]=\"apple\"\n",
        "    print(f\"{my_list}After\")\n",
        "  except:\n",
        "    print(\"Error\")\n",
        "\n",
        "my_list=(1,2,3)\n",
        "immutuable(my_list)"
      ],
      "metadata": {
        "colab": {
          "base_uri": "https://localhost:8080/"
        },
        "id": "WU3FbZtWoLeH",
        "outputId": "e96c0f37-d0e1-4e55-981a-3359d09267d1"
      },
      "execution_count": 51,
      "outputs": [
        {
          "output_type": "stream",
          "name": "stdout",
          "text": [
            "[1, 2, 3]Before\n",
            "[2, 'apple', 4]After\n",
            "(1, 2, 3)Before\n",
            "Error\n"
          ]
        }
      ]
    },
    {
      "cell_type": "code",
      "source": [
        "# 7. Write a program that performs basic arithmetic operations on two user-input numbers.\n",
        "import math\n",
        "a=int(input(\"Enter the num1:\"))\n",
        "b=int(input(\"Enter the num2:\"))\n",
        "operator=input(\"Enter the operator:+-/%\")\n",
        "if operator==\"+\":\n",
        " c=a+b\n",
        "elif operator==\"-\":\n",
        " c=a-b\n",
        "elif operator==\"/\":\n",
        " c=a/b\n",
        "elif operator==\"*\":\n",
        " c=a*b\n",
        "print(c)"
      ],
      "metadata": {
        "colab": {
          "base_uri": "https://localhost:8080/"
        },
        "id": "RDv_FQEowH43",
        "outputId": "5ef2e374-c006-4b12-bb71-eb7f2da33f8d"
      },
      "execution_count": 68,
      "outputs": [
        {
          "output_type": "stream",
          "name": "stdout",
          "text": [
            "Enter the num1:4\n",
            "Enter the num2:4\n",
            "Enter the operator:+-/%/\n",
            "1.0\n"
          ]
        }
      ]
    },
    {
      "cell_type": "code",
      "source": [
        " #8.Write a program to demonstrate the use of logical operators.\n",
        " a=True\n",
        " b=False\n",
        "\n",
        " print(a)\n",
        " print(b)\n",
        "\n",
        " print(a and b)\n",
        " print(a or b)\n",
        " print(not a)\n",
        " print(not b)\n"
      ],
      "metadata": {
        "colab": {
          "base_uri": "https://localhost:8080/"
        },
        "id": "RPz7eTUAy9jE",
        "outputId": "393d09d5-86b2-4d2c-9e74-f542d9adae93"
      },
      "execution_count": 77,
      "outputs": [
        {
          "output_type": "stream",
          "name": "stdout",
          "text": [
            "True\n",
            "False\n",
            "False\n",
            "True\n",
            "False\n",
            "True\n"
          ]
        }
      ]
    },
    {
      "cell_type": "code",
      "source": [
        "# 9. Write a Python program to convert user input from string to integer, float, and boolean types.\n",
        "\n",
        "value=input(\"Enter the value\")\n",
        "int_value=int(value)\n",
        "float_value=float(value)\n",
        "bool_value=bool(value)\n",
        "print(int_value)\n",
        "print(float_value)\n",
        "print(bool_value)\n",
        "\n",
        "\n"
      ],
      "metadata": {
        "colab": {
          "base_uri": "https://localhost:8080/"
        },
        "id": "UqHRsfrC0441",
        "outputId": "91c36bcc-cd21-476e-c17e-e5731ed7a6a1"
      },
      "execution_count": 124,
      "outputs": [
        {
          "output_type": "stream",
          "name": "stdout",
          "text": [
            "Enter the value9\n",
            "9\n",
            "9.0\n",
            "True\n"
          ]
        }
      ]
    },
    {
      "cell_type": "code",
      "source": [
        "\n",
        "# 10. Write code to demonstrate type casting with list elements.\n",
        "  #Implicit\n",
        "list1=[1]\n",
        "list2=[2]\n",
        "list3=list1+list2\n",
        "print(list3)\n",
        "#Explicit\n",
        "list4=[1.33]\n",
        "list5=[2]\n",
        "list6=int(list4[0])+list5[0]\n",
        "print(list6)\n",
        "\n"
      ],
      "metadata": {
        "colab": {
          "base_uri": "https://localhost:8080/"
        },
        "id": "dfFbKWku4JPS",
        "outputId": "e7b8300e-9201-4937-e600-e3751ee882de"
      },
      "execution_count": 94,
      "outputs": [
        {
          "output_type": "stream",
          "name": "stdout",
          "text": [
            "[1, 2]\n",
            "3\n"
          ]
        }
      ]
    },
    {
      "cell_type": "code",
      "source": [
        "# 11. Write a program that checks if a number is positive, negative, or zero.\n",
        "num=float(input(\"Enter the number\"))\n",
        "if (num>0):\n",
        " print(\"The number is positive\")\n",
        "elif (num<0):\n",
        " print(\"The number is negative\")\n",
        "elif(num==0):\n",
        " print(\"The number is Zero\")\n",
        "\n"
      ],
      "metadata": {
        "colab": {
          "base_uri": "https://localhost:8080/"
        },
        "id": "9DdZAtnyBxXQ",
        "outputId": "c58174af-583c-404e-c030-0d6c7a67a14e"
      },
      "execution_count": 123,
      "outputs": [
        {
          "output_type": "stream",
          "name": "stdout",
          "text": [
            "Enter the number0\n",
            "The number is Zero\n"
          ]
        }
      ]
    },
    {
      "cell_type": "code",
      "source": [
        "# 12. Write a for loop to print numbers from 1 to 10.\n",
        "for i in range(1,11):\n",
        "    print(i)"
      ],
      "metadata": {
        "colab": {
          "base_uri": "https://localhost:8080/"
        },
        "id": "BixVeiS7ELdg",
        "outputId": "1d4e4d5a-7cc3-4b92-a6af-985d00c07113"
      },
      "execution_count": 137,
      "outputs": [
        {
          "output_type": "stream",
          "name": "stdout",
          "text": [
            "1\n",
            "2\n",
            "3\n",
            "4\n",
            "5\n",
            "6\n",
            "7\n",
            "8\n",
            "9\n",
            "10\n"
          ]
        }
      ]
    },
    {
      "cell_type": "code",
      "source": [
        "# 13. Write a Python program to find the sum of all even numbers between 1 and 50.\n",
        "total=0\n",
        "for i in range(1,51):\n",
        " if i%2==0:\n",
        "  total+=i\n",
        "print(total)"
      ],
      "metadata": {
        "colab": {
          "base_uri": "https://localhost:8080/"
        },
        "id": "w4A09KVMFpwg",
        "outputId": "da92386e-181e-4350-b6a8-2e97e1fd600d"
      },
      "execution_count": 147,
      "outputs": [
        {
          "output_type": "stream",
          "name": "stdout",
          "text": [
            "650\n"
          ]
        }
      ]
    },
    {
      "cell_type": "code",
      "source": [
        "# 14. Write a program to reverse a string using a while loop.\n",
        "\n",
        "text=\"Hii Pragati\"\n",
        "reversed_text=\"\"\n",
        "i=len(text)-1\n",
        "while(i>=0):\n",
        "  reversed_text+=text[i]\n",
        "  i-=1\n",
        "print(\"Original Text:\",text)\n",
        "print(\"Final Text:\",reversed_text)"
      ],
      "metadata": {
        "colab": {
          "base_uri": "https://localhost:8080/"
        },
        "id": "uP5LwznRHp9P",
        "outputId": "02b7b548-327a-473b-a14a-199b7305df8c"
      },
      "execution_count": 152,
      "outputs": [
        {
          "output_type": "stream",
          "name": "stdout",
          "text": [
            "Original Text: Hii Pragati\n",
            "Final Text: itagarP iiH\n"
          ]
        }
      ]
    },
    {
      "cell_type": "code",
      "source": [
        "# 15. Write a Python program to calculate the factorial of a number provided by the user using a while loop\n",
        "num=int(input(\"Enter the number\"))\n",
        "fact=1\n",
        "i=1\n",
        "while i<=num:\n",
        "  fact*=i\n",
        "  i+=1\n",
        "print(fact)\n",
        "\n",
        "\n"
      ],
      "metadata": {
        "colab": {
          "base_uri": "https://localhost:8080/"
        },
        "id": "rBPhixlALtmF",
        "outputId": "60fa1de0-93b9-4da1-be2b-71b37af3c360"
      },
      "execution_count": 168,
      "outputs": [
        {
          "output_type": "stream",
          "name": "stdout",
          "text": [
            "Enter the number5\n",
            "120\n"
          ]
        }
      ]
    }
  ]
}